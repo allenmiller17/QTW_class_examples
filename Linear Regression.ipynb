{
 "cells": [
  {
   "cell_type": "markdown",
   "id": "15803e02",
   "metadata": {},
   "source": [
    "# Linear Regression Class Demo"
   ]
  },
  {
   "cell_type": "code",
   "execution_count": 2,
   "id": "8ecb413f",
   "metadata": {},
   "outputs": [],
   "source": [
    "import pandas as pd\n",
    "from sklearn.datasets import fetch_california_housing\n",
    "\n",
    "cal_housing = fetch_california_housing()\n",
    "X = pd.DataFrame(cal_housing.data, columns=cal_housing.feature_names)\n",
    "y = cal_housing.target\n"
   ]
  },
  {
   "cell_type": "code",
   "execution_count": 3,
   "id": "8d55a6d0",
   "metadata": {},
   "outputs": [
    {
     "data": {
      "text/html": [
       "<div>\n",
       "<style scoped>\n",
       "    .dataframe tbody tr th:only-of-type {\n",
       "        vertical-align: middle;\n",
       "    }\n",
       "\n",
       "    .dataframe tbody tr th {\n",
       "        vertical-align: top;\n",
       "    }\n",
       "\n",
       "    .dataframe thead th {\n",
       "        text-align: right;\n",
       "    }\n",
       "</style>\n",
       "<table border=\"1\" class=\"dataframe\">\n",
       "  <thead>\n",
       "    <tr style=\"text-align: right;\">\n",
       "      <th></th>\n",
       "      <th>MedInc</th>\n",
       "      <th>HouseAge</th>\n",
       "      <th>AveRooms</th>\n",
       "      <th>AveBedrms</th>\n",
       "      <th>Population</th>\n",
       "      <th>AveOccup</th>\n",
       "      <th>Latitude</th>\n",
       "      <th>Longitude</th>\n",
       "    </tr>\n",
       "  </thead>\n",
       "  <tbody>\n",
       "    <tr>\n",
       "      <th>0</th>\n",
       "      <td>8.3252</td>\n",
       "      <td>41.0</td>\n",
       "      <td>6.984127</td>\n",
       "      <td>1.023810</td>\n",
       "      <td>322.0</td>\n",
       "      <td>2.555556</td>\n",
       "      <td>37.88</td>\n",
       "      <td>-122.23</td>\n",
       "    </tr>\n",
       "    <tr>\n",
       "      <th>1</th>\n",
       "      <td>8.3014</td>\n",
       "      <td>21.0</td>\n",
       "      <td>6.238137</td>\n",
       "      <td>0.971880</td>\n",
       "      <td>2401.0</td>\n",
       "      <td>2.109842</td>\n",
       "      <td>37.86</td>\n",
       "      <td>-122.22</td>\n",
       "    </tr>\n",
       "    <tr>\n",
       "      <th>2</th>\n",
       "      <td>7.2574</td>\n",
       "      <td>52.0</td>\n",
       "      <td>8.288136</td>\n",
       "      <td>1.073446</td>\n",
       "      <td>496.0</td>\n",
       "      <td>2.802260</td>\n",
       "      <td>37.85</td>\n",
       "      <td>-122.24</td>\n",
       "    </tr>\n",
       "    <tr>\n",
       "      <th>3</th>\n",
       "      <td>5.6431</td>\n",
       "      <td>52.0</td>\n",
       "      <td>5.817352</td>\n",
       "      <td>1.073059</td>\n",
       "      <td>558.0</td>\n",
       "      <td>2.547945</td>\n",
       "      <td>37.85</td>\n",
       "      <td>-122.25</td>\n",
       "    </tr>\n",
       "    <tr>\n",
       "      <th>4</th>\n",
       "      <td>3.8462</td>\n",
       "      <td>52.0</td>\n",
       "      <td>6.281853</td>\n",
       "      <td>1.081081</td>\n",
       "      <td>565.0</td>\n",
       "      <td>2.181467</td>\n",
       "      <td>37.85</td>\n",
       "      <td>-122.25</td>\n",
       "    </tr>\n",
       "    <tr>\n",
       "      <th>...</th>\n",
       "      <td>...</td>\n",
       "      <td>...</td>\n",
       "      <td>...</td>\n",
       "      <td>...</td>\n",
       "      <td>...</td>\n",
       "      <td>...</td>\n",
       "      <td>...</td>\n",
       "      <td>...</td>\n",
       "    </tr>\n",
       "    <tr>\n",
       "      <th>20635</th>\n",
       "      <td>1.5603</td>\n",
       "      <td>25.0</td>\n",
       "      <td>5.045455</td>\n",
       "      <td>1.133333</td>\n",
       "      <td>845.0</td>\n",
       "      <td>2.560606</td>\n",
       "      <td>39.48</td>\n",
       "      <td>-121.09</td>\n",
       "    </tr>\n",
       "    <tr>\n",
       "      <th>20636</th>\n",
       "      <td>2.5568</td>\n",
       "      <td>18.0</td>\n",
       "      <td>6.114035</td>\n",
       "      <td>1.315789</td>\n",
       "      <td>356.0</td>\n",
       "      <td>3.122807</td>\n",
       "      <td>39.49</td>\n",
       "      <td>-121.21</td>\n",
       "    </tr>\n",
       "    <tr>\n",
       "      <th>20637</th>\n",
       "      <td>1.7000</td>\n",
       "      <td>17.0</td>\n",
       "      <td>5.205543</td>\n",
       "      <td>1.120092</td>\n",
       "      <td>1007.0</td>\n",
       "      <td>2.325635</td>\n",
       "      <td>39.43</td>\n",
       "      <td>-121.22</td>\n",
       "    </tr>\n",
       "    <tr>\n",
       "      <th>20638</th>\n",
       "      <td>1.8672</td>\n",
       "      <td>18.0</td>\n",
       "      <td>5.329513</td>\n",
       "      <td>1.171920</td>\n",
       "      <td>741.0</td>\n",
       "      <td>2.123209</td>\n",
       "      <td>39.43</td>\n",
       "      <td>-121.32</td>\n",
       "    </tr>\n",
       "    <tr>\n",
       "      <th>20639</th>\n",
       "      <td>2.3886</td>\n",
       "      <td>16.0</td>\n",
       "      <td>5.254717</td>\n",
       "      <td>1.162264</td>\n",
       "      <td>1387.0</td>\n",
       "      <td>2.616981</td>\n",
       "      <td>39.37</td>\n",
       "      <td>-121.24</td>\n",
       "    </tr>\n",
       "  </tbody>\n",
       "</table>\n",
       "<p>20640 rows × 8 columns</p>\n",
       "</div>"
      ],
      "text/plain": [
       "       MedInc  HouseAge  AveRooms  ...  AveOccup  Latitude  Longitude\n",
       "0      8.3252      41.0  6.984127  ...  2.555556     37.88    -122.23\n",
       "1      8.3014      21.0  6.238137  ...  2.109842     37.86    -122.22\n",
       "2      7.2574      52.0  8.288136  ...  2.802260     37.85    -122.24\n",
       "3      5.6431      52.0  5.817352  ...  2.547945     37.85    -122.25\n",
       "4      3.8462      52.0  6.281853  ...  2.181467     37.85    -122.25\n",
       "...       ...       ...       ...  ...       ...       ...        ...\n",
       "20635  1.5603      25.0  5.045455  ...  2.560606     39.48    -121.09\n",
       "20636  2.5568      18.0  6.114035  ...  3.122807     39.49    -121.21\n",
       "20637  1.7000      17.0  5.205543  ...  2.325635     39.43    -121.22\n",
       "20638  1.8672      18.0  5.329513  ...  2.123209     39.43    -121.32\n",
       "20639  2.3886      16.0  5.254717  ...  2.616981     39.37    -121.24\n",
       "\n",
       "[20640 rows x 8 columns]"
      ]
     },
     "execution_count": 3,
     "metadata": {},
     "output_type": "execute_result"
    }
   ],
   "source": [
    "X"
   ]
  },
  {
   "cell_type": "code",
   "execution_count": 4,
   "id": "e3a5ee89",
   "metadata": {},
   "outputs": [
    {
     "data": {
      "text/plain": [
       "array([4.526, 3.585, 3.521, ..., 0.923, 0.847, 0.894])"
      ]
     },
     "execution_count": 4,
     "metadata": {},
     "output_type": "execute_result"
    }
   ],
   "source": [
    "y"
   ]
  },
  {
   "cell_type": "markdown",
   "id": "fde00a94",
   "metadata": {},
   "source": [
    "## Classic Linear Regression"
   ]
  },
  {
   "cell_type": "code",
   "execution_count": 6,
   "id": "9e2771ad",
   "metadata": {},
   "outputs": [],
   "source": [
    "#Classic Linear Regression\n",
    "from sklearn.linear_model import LinearRegression\n",
    "my_model = LinearRegression()"
   ]
  },
  {
   "cell_type": "code",
   "execution_count": 7,
   "id": "ee17c872",
   "metadata": {},
   "outputs": [
    {
     "data": {
      "text/plain": [
       "LinearRegression()"
      ]
     },
     "execution_count": 7,
     "metadata": {},
     "output_type": "execute_result"
    }
   ],
   "source": [
    "my_model.fit(X,y)"
   ]
  },
  {
   "cell_type": "code",
   "execution_count": 8,
   "id": "ddbea5a0",
   "metadata": {},
   "outputs": [
    {
     "data": {
      "text/plain": [
       "array([ 4.36693293e-01,  9.43577803e-03, -1.07322041e-01,  6.45065694e-01,\n",
       "       -3.97638942e-06, -3.78654265e-03, -4.21314378e-01, -4.34513755e-01])"
      ]
     },
     "execution_count": 8,
     "metadata": {},
     "output_type": "execute_result"
    }
   ],
   "source": [
    "my_model.coef_"
   ]
  },
  {
   "cell_type": "markdown",
   "id": "4b5c1fe9",
   "metadata": {},
   "source": [
    "### Scale the data"
   ]
  },
  {
   "cell_type": "code",
   "execution_count": 9,
   "id": "b957ecde",
   "metadata": {},
   "outputs": [],
   "source": [
    "from sklearn.preprocessing import StandardScaler\n",
    "scaler = StandardScaler()"
   ]
  },
  {
   "cell_type": "code",
   "execution_count": 10,
   "id": "00e67cae",
   "metadata": {},
   "outputs": [],
   "source": [
    "X_scaled = scaler.fit_transform(X)"
   ]
  },
  {
   "cell_type": "code",
   "execution_count": 13,
   "id": "ab9a405e",
   "metadata": {},
   "outputs": [],
   "source": [
    "X_scaled = pd.DataFrame(data = X_scaled, columns=cal_housing.feature_names)"
   ]
  },
  {
   "cell_type": "code",
   "execution_count": 14,
   "id": "db57d756",
   "metadata": {},
   "outputs": [
    {
     "data": {
      "text/html": [
       "<div>\n",
       "<style scoped>\n",
       "    .dataframe tbody tr th:only-of-type {\n",
       "        vertical-align: middle;\n",
       "    }\n",
       "\n",
       "    .dataframe tbody tr th {\n",
       "        vertical-align: top;\n",
       "    }\n",
       "\n",
       "    .dataframe thead th {\n",
       "        text-align: right;\n",
       "    }\n",
       "</style>\n",
       "<table border=\"1\" class=\"dataframe\">\n",
       "  <thead>\n",
       "    <tr style=\"text-align: right;\">\n",
       "      <th></th>\n",
       "      <th>MedInc</th>\n",
       "      <th>HouseAge</th>\n",
       "      <th>AveRooms</th>\n",
       "      <th>AveBedrms</th>\n",
       "      <th>Population</th>\n",
       "      <th>AveOccup</th>\n",
       "      <th>Latitude</th>\n",
       "      <th>Longitude</th>\n",
       "    </tr>\n",
       "  </thead>\n",
       "  <tbody>\n",
       "    <tr>\n",
       "      <th>0</th>\n",
       "      <td>2.344766</td>\n",
       "      <td>0.982143</td>\n",
       "      <td>0.628559</td>\n",
       "      <td>-0.153758</td>\n",
       "      <td>-0.974429</td>\n",
       "      <td>-0.049597</td>\n",
       "      <td>1.052548</td>\n",
       "      <td>-1.327835</td>\n",
       "    </tr>\n",
       "    <tr>\n",
       "      <th>1</th>\n",
       "      <td>2.332238</td>\n",
       "      <td>-0.607019</td>\n",
       "      <td>0.327041</td>\n",
       "      <td>-0.263336</td>\n",
       "      <td>0.861439</td>\n",
       "      <td>-0.092512</td>\n",
       "      <td>1.043185</td>\n",
       "      <td>-1.322844</td>\n",
       "    </tr>\n",
       "    <tr>\n",
       "      <th>2</th>\n",
       "      <td>1.782699</td>\n",
       "      <td>1.856182</td>\n",
       "      <td>1.155620</td>\n",
       "      <td>-0.049016</td>\n",
       "      <td>-0.820777</td>\n",
       "      <td>-0.025843</td>\n",
       "      <td>1.038503</td>\n",
       "      <td>-1.332827</td>\n",
       "    </tr>\n",
       "    <tr>\n",
       "      <th>3</th>\n",
       "      <td>0.932968</td>\n",
       "      <td>1.856182</td>\n",
       "      <td>0.156966</td>\n",
       "      <td>-0.049833</td>\n",
       "      <td>-0.766028</td>\n",
       "      <td>-0.050329</td>\n",
       "      <td>1.038503</td>\n",
       "      <td>-1.337818</td>\n",
       "    </tr>\n",
       "    <tr>\n",
       "      <th>4</th>\n",
       "      <td>-0.012881</td>\n",
       "      <td>1.856182</td>\n",
       "      <td>0.344711</td>\n",
       "      <td>-0.032906</td>\n",
       "      <td>-0.759847</td>\n",
       "      <td>-0.085616</td>\n",
       "      <td>1.038503</td>\n",
       "      <td>-1.337818</td>\n",
       "    </tr>\n",
       "    <tr>\n",
       "      <th>...</th>\n",
       "      <td>...</td>\n",
       "      <td>...</td>\n",
       "      <td>...</td>\n",
       "      <td>...</td>\n",
       "      <td>...</td>\n",
       "      <td>...</td>\n",
       "      <td>...</td>\n",
       "      <td>...</td>\n",
       "    </tr>\n",
       "    <tr>\n",
       "      <th>20635</th>\n",
       "      <td>-1.216128</td>\n",
       "      <td>-0.289187</td>\n",
       "      <td>-0.155023</td>\n",
       "      <td>0.077354</td>\n",
       "      <td>-0.512592</td>\n",
       "      <td>-0.049110</td>\n",
       "      <td>1.801647</td>\n",
       "      <td>-0.758826</td>\n",
       "    </tr>\n",
       "    <tr>\n",
       "      <th>20636</th>\n",
       "      <td>-0.691593</td>\n",
       "      <td>-0.845393</td>\n",
       "      <td>0.276881</td>\n",
       "      <td>0.462365</td>\n",
       "      <td>-0.944405</td>\n",
       "      <td>0.005021</td>\n",
       "      <td>1.806329</td>\n",
       "      <td>-0.818722</td>\n",
       "    </tr>\n",
       "    <tr>\n",
       "      <th>20637</th>\n",
       "      <td>-1.142593</td>\n",
       "      <td>-0.924851</td>\n",
       "      <td>-0.090318</td>\n",
       "      <td>0.049414</td>\n",
       "      <td>-0.369537</td>\n",
       "      <td>-0.071735</td>\n",
       "      <td>1.778237</td>\n",
       "      <td>-0.823713</td>\n",
       "    </tr>\n",
       "    <tr>\n",
       "      <th>20638</th>\n",
       "      <td>-1.054583</td>\n",
       "      <td>-0.845393</td>\n",
       "      <td>-0.040211</td>\n",
       "      <td>0.158778</td>\n",
       "      <td>-0.604429</td>\n",
       "      <td>-0.091225</td>\n",
       "      <td>1.778237</td>\n",
       "      <td>-0.873626</td>\n",
       "    </tr>\n",
       "    <tr>\n",
       "      <th>20639</th>\n",
       "      <td>-0.780129</td>\n",
       "      <td>-1.004309</td>\n",
       "      <td>-0.070443</td>\n",
       "      <td>0.138403</td>\n",
       "      <td>-0.033977</td>\n",
       "      <td>-0.043682</td>\n",
       "      <td>1.750146</td>\n",
       "      <td>-0.833696</td>\n",
       "    </tr>\n",
       "  </tbody>\n",
       "</table>\n",
       "<p>20640 rows × 8 columns</p>\n",
       "</div>"
      ],
      "text/plain": [
       "         MedInc  HouseAge  AveRooms  ...  AveOccup  Latitude  Longitude\n",
       "0      2.344766  0.982143  0.628559  ... -0.049597  1.052548  -1.327835\n",
       "1      2.332238 -0.607019  0.327041  ... -0.092512  1.043185  -1.322844\n",
       "2      1.782699  1.856182  1.155620  ... -0.025843  1.038503  -1.332827\n",
       "3      0.932968  1.856182  0.156966  ... -0.050329  1.038503  -1.337818\n",
       "4     -0.012881  1.856182  0.344711  ... -0.085616  1.038503  -1.337818\n",
       "...         ...       ...       ...  ...       ...       ...        ...\n",
       "20635 -1.216128 -0.289187 -0.155023  ... -0.049110  1.801647  -0.758826\n",
       "20636 -0.691593 -0.845393  0.276881  ...  0.005021  1.806329  -0.818722\n",
       "20637 -1.142593 -0.924851 -0.090318  ... -0.071735  1.778237  -0.823713\n",
       "20638 -1.054583 -0.845393 -0.040211  ... -0.091225  1.778237  -0.873626\n",
       "20639 -0.780129 -1.004309 -0.070443  ... -0.043682  1.750146  -0.833696\n",
       "\n",
       "[20640 rows x 8 columns]"
      ]
     },
     "execution_count": 14,
     "metadata": {},
     "output_type": "execute_result"
    }
   ],
   "source": [
    "X_scaled"
   ]
  },
  {
   "cell_type": "code",
   "execution_count": 15,
   "id": "75d1d6eb",
   "metadata": {},
   "outputs": [
    {
     "data": {
      "text/plain": [
       "LinearRegression()"
      ]
     },
     "execution_count": 15,
     "metadata": {},
     "output_type": "execute_result"
    }
   ],
   "source": [
    "scaled_model = LinearRegression()\n",
    "scaled_model.fit(X_scaled,y)"
   ]
  },
  {
   "cell_type": "code",
   "execution_count": 16,
   "id": "18a8dbee",
   "metadata": {},
   "outputs": [
    {
     "data": {
      "text/plain": [
       "array([ 0.8296193 ,  0.11875165, -0.26552688,  0.30569623, -0.004503  ,\n",
       "       -0.03932627, -0.89988565, -0.870541  ])"
      ]
     },
     "execution_count": 16,
     "metadata": {},
     "output_type": "execute_result"
    }
   ],
   "source": [
    "scaled_model.coef_"
   ]
  },
  {
   "cell_type": "markdown",
   "id": "778216fb",
   "metadata": {},
   "source": [
    "### Loop to add coefficients to column names"
   ]
  },
  {
   "cell_type": "code",
   "execution_count": 17,
   "id": "dd858e80",
   "metadata": {},
   "outputs": [
    {
     "name": "stdout",
     "output_type": "stream",
     "text": [
      "MedInc 0.8296193042804504\n",
      "HouseAge 0.11875165121214162\n",
      "AveRooms -0.26552687950662046\n",
      "AveBedrms 0.30569622980430894\n",
      "Population -0.004503001312614049\n",
      "AveOccup -0.03932626697814864\n",
      "Latitude -0.8998856544145073\n",
      "Longitude -0.8705410023357312\n"
     ]
    }
   ],
   "source": [
    "for i in range (len(X_scaled.columns)):\n",
    "    print(X_scaled.columns[i], scaled_model.coef_[i])"
   ]
  },
  {
   "cell_type": "markdown",
   "id": "4ba8cf8f",
   "metadata": {},
   "source": [
    "### Regularization"
   ]
  },
  {
   "cell_type": "markdown",
   "id": "a47297cf",
   "metadata": {},
   "source": [
    "#### LASSO (L1)"
   ]
  },
  {
   "cell_type": "code",
   "execution_count": 19,
   "id": "7eaae1c6",
   "metadata": {},
   "outputs": [],
   "source": [
    "from sklearn.linear_model import Lasso\n",
    "l1_model = Lasso(alpha=1)"
   ]
  },
  {
   "cell_type": "code",
   "execution_count": 20,
   "id": "11d4f3d9",
   "metadata": {},
   "outputs": [
    {
     "data": {
      "text/plain": [
       "Lasso(alpha=1)"
      ]
     },
     "execution_count": 20,
     "metadata": {},
     "output_type": "execute_result"
    }
   ],
   "source": [
    "l1_model.fit(X_scaled,y)"
   ]
  },
  {
   "cell_type": "code",
   "execution_count": 21,
   "id": "a6bbca6e",
   "metadata": {},
   "outputs": [
    {
     "data": {
      "text/plain": [
       "array([ 0.,  0.,  0., -0., -0., -0., -0., -0.])"
      ]
     },
     "execution_count": 21,
     "metadata": {},
     "output_type": "execute_result"
    }
   ],
   "source": [
    "l1_model.coef_"
   ]
  },
  {
   "cell_type": "markdown",
   "id": "414ac8e9",
   "metadata": {},
   "source": [
    "##### Loop through alpha to see how the coefficients change"
   ]
  },
  {
   "cell_type": "code",
   "execution_count": 24,
   "id": "69659461",
   "metadata": {},
   "outputs": [
    {
     "name": "stdout",
     "output_type": "stream",
     "text": [
      "alpha =  1 [ 0.  0.  0. -0. -0. -0. -0. -0.]\n",
      "----------\n",
      "alpha =  0.1 [ 0.70571337  0.10601099 -0.         -0.         -0.         -0.\n",
      " -0.01121267 -0.        ]\n",
      "----------\n",
      "alpha =  0.01 [ 0.77722333  0.12486709 -0.12940585  0.16912537 -0.         -0.02944551\n",
      " -0.79543737 -0.75899738]\n",
      "----------\n",
      "alpha =  0.001 [ 0.8244684   0.11967446 -0.25193711  0.29211349 -0.00315059 -0.03840844\n",
      " -0.88903624 -0.85906895]\n",
      "----------\n",
      "alpha =  0.0001 [ 0.82910679  0.11884435 -0.26417261  0.30434164 -0.00436762 -0.03923458\n",
      " -0.89879503 -0.86938865]\n",
      "----------\n"
     ]
    }
   ],
   "source": [
    "alpha = 1\n",
    "for i in range(5):\n",
    "    l1_model.alpha = alpha\n",
    "    l1_model.fit(X_scaled, y)\n",
    "    print(\"alpha = \", alpha, l1_model.coef_)\n",
    "    print(\"----------\")\n",
    "    alpha = alpha / 10"
   ]
  },
  {
   "cell_type": "markdown",
   "id": "fb474216",
   "metadata": {},
   "source": [
    "##### Cross Validation"
   ]
  },
  {
   "cell_type": "code",
   "execution_count": 27,
   "id": "ebc21188",
   "metadata": {},
   "outputs": [
    {
     "data": {
      "text/plain": [
       "array([0.54866323, 0.46820691, 0.55078434, 0.53698703, 0.66051406])"
      ]
     },
     "execution_count": 27,
     "metadata": {},
     "output_type": "execute_result"
    }
   ],
   "source": [
    "from sklearn.model_selection import cross_val_score\n",
    "cross_val_score(scaled_model, X_scaled, y)"
   ]
  },
  {
   "cell_type": "markdown",
   "id": "bbc4625a",
   "metadata": {},
   "source": [
    "###### Find the best Loss"
   ]
  },
  {
   "cell_type": "code",
   "execution_count": 28,
   "id": "4cd3d194",
   "metadata": {},
   "outputs": [
    {
     "name": "stdout",
     "output_type": "stream",
     "text": [
      "1 [-0.21613668 -0.02423671 -0.09329273 -0.07285357 -0.0393445 ]\n",
      "----------\n",
      "0.1 [0.45536374 0.4023948  0.47036257 0.30458657 0.52233135]\n",
      "----------\n",
      "0.01 [0.56682644 0.45494291 0.55254378 0.50602901 0.66847995]\n",
      "----------\n",
      "0.001 [0.55132766 0.46710065 0.55132522 0.53439773 0.66213492]\n",
      "----------\n",
      "0.0001 [0.54893833 0.46809859 0.55084209 0.53673338 0.66068491]\n",
      "----------\n"
     ]
    }
   ],
   "source": [
    "alpha = 1\n",
    "for i in range(5):\n",
    "    l1_model.alpha = alpha\n",
    "    print(alpha, cross_val_score(l1_model, X_scaled, y))\n",
    "    print(\"----------\")\n",
    "    alpha = alpha / 10"
   ]
  },
  {
   "cell_type": "code",
   "execution_count": 30,
   "id": "317afa20",
   "metadata": {},
   "outputs": [
    {
     "name": "stdout",
     "output_type": "stream",
     "text": [
      "1 [-0.21613668 -0.02423671 -0.09329273 -0.07285357 -0.0393445 ]\n",
      "----------\n",
      "0.5 [0.15453553 0.26623911 0.21211167 0.17783615 0.25450913]\n",
      "----------\n",
      "0.25 [0.3629225  0.36698211 0.39731386 0.27190784 0.44295217]\n",
      "----------\n",
      "0.125 [0.44388744 0.39950571 0.46086639 0.28951521 0.51268836]\n",
      "----------\n",
      "0.0625 [0.47992086 0.41877029 0.49833942 0.32287246 0.53056434]\n",
      "----------\n"
     ]
    }
   ],
   "source": [
    "alpha = 1\n",
    "for i in range(5):\n",
    "    l1_model.alpha = alpha\n",
    "    print(alpha, cross_val_score(l1_model, X_scaled, y))\n",
    "    print(\"----------\")\n",
    "    alpha = alpha / 2"
   ]
  },
  {
   "cell_type": "markdown",
   "id": "d638ef40",
   "metadata": {},
   "source": [
    "#### Ridge (L2)"
   ]
  },
  {
   "cell_type": "code",
   "execution_count": 31,
   "id": "0611d77f",
   "metadata": {},
   "outputs": [
    {
     "data": {
      "text/plain": [
       "Ridge(alpha=1)"
      ]
     },
     "execution_count": 31,
     "metadata": {},
     "output_type": "execute_result"
    }
   ],
   "source": [
    "from sklearn.linear_model import Ridge\n",
    "l2_model = Ridge(alpha = 1)\n",
    "l2_model.fit(X_scaled, y)"
   ]
  },
  {
   "cell_type": "code",
   "execution_count": 32,
   "id": "510099e8",
   "metadata": {},
   "outputs": [
    {
     "data": {
      "text/plain": [
       "0.6062322647677378"
      ]
     },
     "execution_count": 32,
     "metadata": {},
     "output_type": "execute_result"
    }
   ],
   "source": [
    "l1_model.score(X_scaled, y)"
   ]
  },
  {
   "cell_type": "code",
   "execution_count": 33,
   "id": "8a2c437b",
   "metadata": {},
   "outputs": [
    {
     "data": {
      "text/plain": [
       "array([ 0.82959256,  0.11881684, -0.26539682,  0.30552458, -0.00448006,\n",
       "       -0.03932976, -0.89926646, -0.86991606])"
      ]
     },
     "execution_count": 33,
     "metadata": {},
     "output_type": "execute_result"
    }
   ],
   "source": [
    "l2_model.coef_"
   ]
  },
  {
   "cell_type": "code",
   "execution_count": 34,
   "id": "ff19d410",
   "metadata": {},
   "outputs": [
    {
     "name": "stdout",
     "output_type": "stream",
     "text": [
      "alpha =  1e-05 [ 0.8296193   0.11875165 -0.26552688  0.30569623 -0.004503   -0.03932627\n",
      " -0.89988565 -0.870541  ]\n",
      "----------\n",
      "alpha =  0.0001 [ 0.8296193   0.11875166 -0.26552687  0.30569621 -0.004503   -0.03932627\n",
      " -0.89988559 -0.87054094]\n",
      "----------\n",
      "alpha =  0.001 [ 0.82961928  0.11875172 -0.26552675  0.30569606 -0.00450298 -0.03932627\n",
      " -0.89988503 -0.87054038]\n",
      "----------\n",
      "alpha =  0.01 [ 0.82961904  0.1187523  -0.26552558  0.30569451 -0.00450277 -0.0393263\n",
      " -0.89987946 -0.87053475]\n",
      "----------\n",
      "alpha =  0.1 [ 0.82961664  0.11875818 -0.26551388  0.30567906 -0.00450071 -0.03932662\n",
      " -0.89982369 -0.87047846]\n",
      "----------\n",
      "alpha =  1.0 [ 0.82959256  0.11881684 -0.26539682  0.30552458 -0.00448006 -0.03932976\n",
      " -0.89926646 -0.86991606]\n",
      "----------\n",
      "alpha =  10.0 [ 0.8293461   0.11939823 -0.26422311  0.30398067 -0.00427544 -0.03936068\n",
      " -0.8937389  -0.86433656]\n",
      "----------\n",
      "alpha =  100.0 [ 0.82639107  0.12472471 -0.25228369  0.28870558 -0.00239758 -0.03961935\n",
      " -0.84257736 -0.8126335 ]\n",
      "----------\n",
      "alpha =  1000.0 [ 0.78246743  0.15068383 -0.15023828  0.17109626  0.00686803 -0.03970001\n",
      " -0.55289135 -0.51801317]\n",
      "----------\n",
      "alpha =  10000.0 [ 0.52632452  0.11975532  0.03494657 -0.01933297  0.00138676 -0.02573968\n",
      " -0.1619308  -0.12171367]\n",
      "----------\n"
     ]
    }
   ],
   "source": [
    "alpha = 1E-5\n",
    "for i in range(10):\n",
    "    l2_model.alpha = alpha\n",
    "    l2_model.fit(X_scaled, y)\n",
    "    print(\"alpha = \", alpha, l2_model.coef_)\n",
    "    print(\"----------\")\n",
    "    alpha = alpha * 10"
   ]
  },
  {
   "cell_type": "code",
   "execution_count": 37,
   "id": "e5b505a6",
   "metadata": {},
   "outputs": [
    {
     "name": "stdout",
     "output_type": "stream",
     "text": [
      "1e-05 [0.54866323 0.46820691 0.55078434 0.53698703 0.66051406]\n",
      "----------\n",
      "0.0001 [0.54866324 0.46820691 0.55078434 0.53698702 0.66051406]\n",
      "----------\n",
      "0.001 [0.54866334 0.46820689 0.55078436 0.53698696 0.66051407]\n",
      "----------\n",
      "0.01 [0.54866426 0.46820668 0.55078452 0.53698632 0.66051415]\n",
      "----------\n",
      "0.1 [0.54867348 0.46820467 0.55078609 0.53697995 0.66051499]\n",
      "----------\n",
      "1.0 [0.54876544 0.4681845  0.55080175 0.53691622 0.66052317]\n",
      "----------\n",
      "10.0 [0.54966271 0.46798279 0.55095161 0.53627682 0.66058868]\n",
      "----------\n",
      "100.0 [0.55669091 0.46597036 0.55186109 0.52974249 0.65993628]\n",
      "----------\n",
      "1000.0 [0.55440687 0.44998446 0.53991768 0.47189205 0.62504649]\n",
      "----------\n",
      "10000.0 [0.37180782 0.38729253 0.40830662 0.2927889  0.45139779]\n",
      "----------\n",
      "100000.0 [-0.04415765  0.11468789  0.05507241  0.03386815  0.10121941]\n",
      "----------\n",
      "1000000.0 [-0.19505191 -0.00674442 -0.0751857  -0.05956807 -0.0222241 ]\n",
      "----------\n",
      "10000000.0 [-0.2139798  -0.02244211 -0.09144179 -0.07149147 -0.0375945 ]\n",
      "----------\n",
      "100000000.0 [-0.2159205  -0.02405678 -0.09310722 -0.07271701 -0.03916911]\n",
      "----------\n",
      "1000000000.0 [-0.21611506 -0.02421871 -0.09327417 -0.07283991 -0.03932695]\n",
      "----------\n",
      "10000000000.0 [-0.21613452 -0.02423491 -0.09329087 -0.0728522  -0.03934274]\n",
      "----------\n",
      "100000000000.0 [-0.21613646 -0.02423653 -0.09329254 -0.07285343 -0.03934432]\n",
      "----------\n",
      "1000000000000.0 [-0.21613666 -0.02423669 -0.09329271 -0.07285355 -0.03934448]\n",
      "----------\n",
      "10000000000000.0 [-0.21613668 -0.02423671 -0.09329273 -0.07285356 -0.03934449]\n",
      "----------\n",
      "100000000000000.0 [-0.21613668 -0.02423671 -0.09329273 -0.07285357 -0.0393445 ]\n",
      "----------\n"
     ]
    }
   ],
   "source": [
    "alpha = 1E-5\n",
    "for i in range(20):\n",
    "    l2_model.alpha = alpha\n",
    "    print(alpha, cross_val_score(l2_model, X_scaled, y))\n",
    "    print(\"----------\")\n",
    "    alpha = alpha * 10"
   ]
  },
  {
   "cell_type": "code",
   "execution_count": null,
   "id": "f41eb66b",
   "metadata": {},
   "outputs": [],
   "source": []
  }
 ],
 "metadata": {
  "kernelspec": {
   "display_name": "Python 3",
   "language": "python",
   "name": "python3"
  },
  "language_info": {
   "codemirror_mode": {
    "name": "ipython",
    "version": 3
   },
   "file_extension": ".py",
   "mimetype": "text/x-python",
   "name": "python",
   "nbconvert_exporter": "python",
   "pygments_lexer": "ipython3",
   "version": "3.8.11"
  }
 },
 "nbformat": 4,
 "nbformat_minor": 5
}
